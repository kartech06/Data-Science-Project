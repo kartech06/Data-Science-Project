{
 "cells": [
  {
   "cell_type": "markdown",
   "id": "c9929455",
   "metadata": {},
   "source": [
    "# Assignment 1"
   ]
  },
  {
   "cell_type": "code",
   "execution_count": 4,
   "id": "f6d41df6",
   "metadata": {},
   "outputs": [],
   "source": [
    "## Create a tuple called data with two values, (1, 2) and (3, 4)\n",
    "\n",
    "data=((1,2),(3,4))"
   ]
  },
  {
   "cell_type": "code",
   "execution_count": 27,
   "id": "19251a80",
   "metadata": {},
   "outputs": [],
   "source": [
    "## Create the list [4, 3, 2, 1] and assign it to variable numbers.\n",
    "\n",
    "numbers=[4,3,2,1]"
   ]
  },
  {
   "cell_type": "code",
   "execution_count": 28,
   "id": "bb3a2976",
   "metadata": {},
   "outputs": [
    {
     "data": {
      "text/plain": [
       "[4, 3, 2, 1]"
      ]
     },
     "execution_count": 28,
     "metadata": {},
     "output_type": "execute_result"
    }
   ],
   "source": [
    "## Create a copy of the number list using [:]\n",
    "\n",
    "copyNumbers=numbers[:]\n",
    "copyNumbers"
   ]
  },
  {
   "cell_type": "code",
   "execution_count": 12,
   "id": "db4ff939",
   "metadata": {},
   "outputs": [
    {
     "data": {
      "text/plain": [
       "[1, 2, 3, 4]"
      ]
     },
     "execution_count": 12,
     "metadata": {},
     "output_type": "execute_result"
    }
   ],
   "source": [
    "##Sort the numbers list in numerical order\n",
    "\n",
    "numbers.sort()\n",
    "numbers"
   ]
  },
  {
   "cell_type": "code",
   "execution_count": 15,
   "id": "eb37d7dc",
   "metadata": {},
   "outputs": [],
   "source": [
    "## Create a tuple \"cardinal_numbers\" with \"first\", \"second\" and \"third\"\n",
    "\n",
    "cardinal_numbers=(\"first\",\"second\",\"third\")"
   ]
  },
  {
   "cell_type": "code",
   "execution_count": 16,
   "id": "de744916",
   "metadata": {},
   "outputs": [
    {
     "data": {
      "text/plain": [
       "'second'"
      ]
     },
     "execution_count": 16,
     "metadata": {},
     "output_type": "execute_result"
    }
   ],
   "source": [
    "## Display the second object in the tuple\n",
    "\n",
    "cardinal_numbers[1]"
   ]
  },
  {
   "cell_type": "code",
   "execution_count": 25,
   "id": "58ae70d7",
   "metadata": {},
   "outputs": [
    {
     "name": "stdout",
     "output_type": "stream",
     "text": [
      "first\n",
      "second\n",
      "third\n"
     ]
    }
   ],
   "source": [
    "## Unpack the tuple into three strings and display them\n",
    "\n",
    "first_num,second_num,third_num=cardinal_numbers\n",
    "\n",
    "print(first_num)\n",
    "print(second_num)\n",
    "print(third_num)"
   ]
  },
  {
   "cell_type": "code",
   "execution_count": 17,
   "id": "92b5f8eb",
   "metadata": {},
   "outputs": [],
   "source": [
    "## Create a tuple containing the letters of your name from a string\n",
    "\n",
    "name=\"Kartik\"\n",
    "my_name=tuple(name)"
   ]
  },
  {
   "cell_type": "code",
   "execution_count": 33,
   "id": "cf9be093",
   "metadata": {},
   "outputs": [
    {
     "name": "stdout",
     "output_type": "stream",
     "text": [
      "False\n",
      "x is not in the my_name\n"
     ]
    }
   ],
   "source": [
    "## Check whether or not x is in my_name\n",
    "\n",
    "print(\"x\" in my_name)\n",
    "\n",
    "## Second Method\n",
    "\n",
    "if(\"x\" in my_name):\n",
    "    print(\"x is present in my_name\")\n",
    "else:\n",
    "    print(\"x is not in the my_name\")"
   ]
  },
  {
   "cell_type": "code",
   "execution_count": 34,
   "id": "dad8b249",
   "metadata": {},
   "outputs": [
    {
     "name": "stdout",
     "output_type": "stream",
     "text": [
      "False\n",
      "s is not in the my_name\n"
     ]
    }
   ],
   "source": [
    "## Check whether or not s is in my_name\n",
    "\n",
    "print(\"s\" in my_name)\n",
    "\n",
    "## Second Method\n",
    "\n",
    "if(\"s\" in my_name):\n",
    "    print(\"s is present in my_name\")\n",
    "else:\n",
    "    print(\"s is not in the my_name\")"
   ]
  }
 ],
 "metadata": {
  "kernelspec": {
   "display_name": "Python 3 (ipykernel)",
   "language": "python",
   "name": "python3"
  },
  "language_info": {
   "codemirror_mode": {
    "name": "ipython",
    "version": 3
   },
   "file_extension": ".py",
   "mimetype": "text/x-python",
   "name": "python",
   "nbconvert_exporter": "python",
   "pygments_lexer": "ipython3",
   "version": "3.9.12"
  }
 },
 "nbformat": 4,
 "nbformat_minor": 5
}
